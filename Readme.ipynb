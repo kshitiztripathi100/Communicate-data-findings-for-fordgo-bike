{
 "cells": [
  {
   "cell_type": "markdown",
   "metadata": {},
   "source": [
    "## Ford_Bike_Communicating_Findings: (June-December 2017 data files):"
   ]
  },
  {
   "cell_type": "markdown",
   "metadata": {},
   "source": [
    "### Dataset"
   ]
  },
  {
   "cell_type": "markdown",
   "metadata": {},
   "source": [
    "The data consist of approximately 5.1M bike rides from FY2017. The attributes include the trip start/end time, start/end station, duration in seconds as well as additional information such as user type, gender, and birth date. 67K data points were removed from the analysis due to inconsistencies in the age, which in some cases was greater trhan 90 years. The data can be found <a href=\"https://s3.amazonaws.com/fordgobike-data/index.html\" target=\"_blank\">here</a>, with feature documentation available <a href=\"https://www.fordgobike.com/system-data\" target=\"_blank\">here</a>."
   ]
  },
  {
   "cell_type": "markdown",
   "metadata": {},
   "source": [
    "## Summary of Findings"
   ]
  },
  {
   "cell_type": "markdown",
   "metadata": {},
   "source": [
    "In the exploration, I found that there are two types of clients using the system: subscribers who are mainly daily commuters, having short trips to and from work, who rent a bike on weekdays at 8-9am and 5-6pm, and, occasionally around the lunch time, and customers, usually tourists or occassional riders who use the system mainly on weekends to explore the Bay Area. The bike share system was used more often around summertime (Sept.-October) with a clear drop in june & july, most probably due to the weather condition. Moreover, I have checked if there are some differences in trends for genders. In most cases the trend for males/females was the same, except of the fact that females tend to have slightly longer trips and suprisingly, for casual users there are quite a lot of females using the system in comparison to males (the ratio is much smaller than for the rest of the year)."
   ]
  },
  {
   "cell_type": "markdown",
   "metadata": {},
   "source": [
    "### Key Insights for Presentation:"
   ]
  },
  {
   "cell_type": "markdown",
   "metadata": {},
   "source": [
    "For Data Analysis, First I started exploring dataframe with People age some of them has over 100 years. For Analysis purpose I limited dataset to less than 90 years age people.For Univariate Exploration, I started exploring data by Monthly,Weekly,Hourly Bike Trends and Percentage of Age groups and Genders.In Bi-variate Exploration,analyzed by calculating Percentage of Subscribers and Customers and then Monthly,Weekly and Hourly usage by user types. In Multi-variate Exploration, I extended analysis by taking three variables using different age groups monthly trends by user types (Subscribers and Customers). Finally, I used heatmap to show when bikes are high in demand during Weekdays,Different hours by user types(Subscribers and Customers)."
   ]
  }
 ],
 "metadata": {
  "kernelspec": {
   "display_name": "Python 3",
   "language": "python",
   "name": "python3"
  },
  "language_info": {
   "codemirror_mode": {
    "name": "ipython",
    "version": 3
   },
   "file_extension": ".py",
   "mimetype": "text/x-python",
   "name": "python",
   "nbconvert_exporter": "python",
   "pygments_lexer": "ipython3",
   "version": "3.7.6"
  }
 },
 "nbformat": 4,
 "nbformat_minor": 4
}
